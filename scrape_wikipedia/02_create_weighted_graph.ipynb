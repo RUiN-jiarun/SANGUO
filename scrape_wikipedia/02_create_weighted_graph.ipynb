{
 "cells": [
  {
   "cell_type": "code",
   "execution_count": 14,
   "metadata": {},
   "outputs": [],
   "source": [
    "from urllib.request import urlopen\n",
    "from bs4 import BeautifulSoup\n",
    "from collections import defaultdict\n",
    "import re\n",
    "import pandas as pd\n",
    "from multiprocessing import Pool\n",
    "from tqdm import tqdm\n",
    "\n",
    "from parse_entry import EntryParser"
   ]
  },
  {
   "cell_type": "code",
   "execution_count": 15,
   "metadata": {},
   "outputs": [],
   "source": [
    "# Load data\n",
    "df = pd.read_csv('./data/people.csv')"
   ]
  },
  {
   "cell_type": "code",
   "execution_count": 16,
   "metadata": {},
   "outputs": [
    {
     "name": "stdout",
     "output_type": "stream",
     "text": [
      "All subprocesses done.\n"
     ]
    }
   ],
   "source": [
    "# Create graph\n",
    "\n",
    "def create_edges(j, df):\n",
    "    \n",
    "    edges = []\n",
    "    \n",
    "    person = df.iloc[j]\n",
    "    name = person.name_en\n",
    "    counts = EntryParser().edges_to(person.url)\n",
    "    for v in counts.keys():\n",
    "        ind = df[df['name_en'] == v].index\n",
    "        if len(ind) != 0:\n",
    "            i = ind[0]\n",
    "            edges.append((j, i, counts[v]))\n",
    "            \n",
    "    return edges\n",
    "\n",
    "results = []\n",
    "\n",
    "p = Pool(12)\n",
    "for j in range(len(df)): \n",
    "    edges = p.apply_async(create_edges, args=(j,df))\n",
    "    results.append(edges)\n",
    "p.close()\n",
    "p.join()\n",
    "print('All subprocesses done.')\n",
    "\n",
    "graph = []\n",
    "for result in results: graph.extend(result.get())"
   ]
  },
  {
   "cell_type": "code",
   "execution_count": 17,
   "metadata": {},
   "outputs": [],
   "source": [
    "# Save graph\n",
    "header = ['p1', 'p2', 'count']\n",
    "df_graph = pd.DataFrame(columns=header, data=graph)\n",
    "df_graph.to_csv('./data/graph.csv', index = False)"
   ]
  },
  {
   "cell_type": "code",
   "execution_count": null,
   "metadata": {},
   "outputs": [],
   "source": []
  }
 ],
 "metadata": {
  "kernelspec": {
   "display_name": "Python 3",
   "language": "python",
   "name": "python3"
  },
  "language_info": {
   "codemirror_mode": {
    "name": "ipython",
    "version": 3
   },
   "file_extension": ".py",
   "mimetype": "text/x-python",
   "name": "python",
   "nbconvert_exporter": "python",
   "pygments_lexer": "ipython3",
   "version": "3.7.3"
  }
 },
 "nbformat": 4,
 "nbformat_minor": 2
}
