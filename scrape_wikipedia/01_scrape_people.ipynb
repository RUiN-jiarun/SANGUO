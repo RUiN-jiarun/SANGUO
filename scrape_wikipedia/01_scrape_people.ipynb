{
 "cells": [
  {
   "cell_type": "code",
   "execution_count": 9,
   "metadata": {},
   "outputs": [],
   "source": [
    "from urllib.request import urlopen\n",
    "from bs4 import BeautifulSoup\n",
    "import re\n",
    "import pandas as pd\n",
    "from langconv import *\n",
    "from collections import defaultdict"
   ]
  },
  {
   "cell_type": "code",
   "execution_count": 10,
   "metadata": {},
   "outputs": [],
   "source": [
    "base_url = 'https://en.wikipedia.org'\n",
    "\n",
    "def Traditional2Simplified(sentence):\n",
    "    sentence = Converter('zh-hans').convert(sentence)\n",
    "    return sentence"
   ]
  },
  {
   "cell_type": "code",
   "execution_count": 11,
   "metadata": {},
   "outputs": [],
   "source": [
    "# Parse page\n",
    "html = urlopen('https://en.wikipedia.org/wiki/Lists_of_people_of_the_Three_Kingdoms')\n",
    "bs = BeautifulSoup(html, 'html.parser')\n",
    "links = bs.find('td', {'class':\"navbox-list navbox-odd hlist\"}).find_all(\n",
    "    href=re.compile('^(/wiki/List_of_people_of_the_Three_Kingdoms_)'))\n",
    "\n",
    "res = []\n",
    "\n",
    "for link in links:\n",
    "    table_html = urlopen(base_url + link['href'])\n",
    "    table_bs = BeautifulSoup(table_html, 'html.parser')\n",
    "    table = table_bs.find('div', {'class':\"mw-parser-output\"}).find(\n",
    "        'table', {'class':\"wikitable sortable\"}).tbody\n",
    "    names = []\n",
    "    for row in table.find_all('tr')[1:]:\n",
    "        name = row.td\n",
    "        name_link = name.find('a')\n",
    "        if name_link and re.search('^(/wiki/)', name_link['href']): # Has link\n",
    "            s = name.text\n",
    "            name_en = re.compile(r'[\\u4e00-\\u9fa5]').split(s)[0] # English name\n",
    "            name_zh = Traditional2Simplified(s[len(name_en):]) # Chinese name (Simplified)\n",
    "            if name_en in name_link['title']: # Has own entry\n",
    "#                 names.append([name_en, name_zh, name.find('a')['href'], name_link['title']])\n",
    "                names.append([name_en, name_zh, name.find('a')['href']])\n",
    "    res.extend(names)"
   ]
  },
  {
   "cell_type": "code",
   "execution_count": 12,
   "metadata": {},
   "outputs": [
    {
     "name": "stdout",
     "output_type": "stream",
     "text": [
      "        name_en name_zh                                     url\n",
      "4  Empress Bian     卞皇后  /wiki/Empress_Bian_(Cao_Huan%27s_wife)\n",
      "5  Empress Bian     卞皇后   /wiki/Empress_Bian_(Cao_Mao%27s_wife)\n",
      "    name_en name_zh                     url\n",
      "27  Cao Jie      曹节   /wiki/Empress_Cao_Jie\n",
      "28  Cao Jie      曹节  /wiki/Cao_Jie_(eunuch)\n",
      "   name_en name_zh                                 url\n",
      "29  Cao Ju      曹矩    /wiki/Cao_Ju_(Prince_of_Fanyang)\n",
      "30  Cao Ju      曹据  /wiki/Cao_Ju_(Prince_of_Pengcheng)\n",
      "    name_en name_zh                                url\n",
      "31  Cao Jun      曹均        /wiki/Cao_Jun_(Duke_of_Fan)\n",
      "32  Cao Jun      曹峻  /wiki/Cao_Jun_(Prince_of_Chenliu)\n",
      "    name_en name_zh                                url\n",
      "34  Cao Lin      曹霖  /wiki/Cao_Lin_(Prince_of_Donghai)\n",
      "35  Cao Lin      曹林      /wiki/Cao_Lin_(Prince_of_Pei)\n",
      "    name_en name_zh                                url\n",
      "36  Cao Mao      曹髦                      /wiki/Cao_Mao\n",
      "37  Cao Mao      曹茂  /wiki/Cao_Mao_(Prince_of_Laoling)\n",
      "    name_en name_zh                               url\n",
      "40  Cao Rui      曹叡                     /wiki/Cao_Rui\n",
      "41  Cao Rui      曹蕤  /wiki/Cao_Rui_(Prince_of_Beihai)\n",
      "     name_en name_zh                              url\n",
      "72  Chen Shi      陈式  /wiki/Chen_Shi_(Three_Kingdoms)\n",
      "73  Chen Shi      陈寔     /wiki/Chen_Shi_(Han_dynasty)\n",
      "      name_en name_zh                               url\n",
      "93  Ding Feng      丁奉         /wiki/Ding_Feng_(general)\n",
      "94  Ding Feng      丁封  /wiki/Ding_Feng_(general)#Family\n",
      "    name_en name_zh                          url\n",
      "95  Ding Yi      丁仪  /wiki/Ding_Yi_(Han_dynasty)\n",
      "96  Ding Yi      丁廙  /wiki/Ding_Yi_(Han_dynasty)\n",
      "      name_en name_zh                                          url\n",
      "164  Guo Yuan      国渊                        /wiki/Guo_Yuan_(Zini)\n",
      "165  Guo Yuan      郭援  /wiki/Guo_Yuan_(Yuan_Shang%27s_subordinate)\n",
      "     name_en name_zh                                  url\n",
      "276  Liu Yan      刘焉  /wiki/Liu_Yan_(Han_dynasty_warlord)\n",
      "277  Liu Yan      刘琰              /wiki/Liu_Yan_(Shu_Han)\n",
      "    name_en name_zh                    url\n",
      "286   Lu Ji      陆绩   /wiki/Lu_Ji_(Gongji)\n",
      "287   Lu Ji      陆机  /wiki/Lu_Ji_(Shiheng)\n",
      "     name_en name_zh                             url\n",
      "290  Lu Kang      陆抗  /wiki/Lu_Kang_(Three_Kingdoms)\n",
      "291  Lu Kang      陆康     /wiki/Lu_Kang_(Han_dynasty)\n",
      "    name_en name_zh                            url\n",
      "305   Lü Yi      吕乂     /wiki/L%C3%BC_Yi_(Shu_Han)\n",
      "306   Lü Yi      吕壹  /wiki/L%C3%BC_Yi_(Eastern_Wu)\n",
      "      name_en name_zh                      url\n",
      "392  Sun Huan      孙奂  /wiki/Sun_Huan_(Jiming)\n",
      "393  Sun Huan      孙桓   /wiki/Sun_Huan_(Shuwu)\n",
      "      name_en name_zh                       url\n",
      "407  Sun Shao      孙韶  /wiki/Sun_Shao_(general)\n",
      "408  Sun Shao      孙邵  /wiki/Sun_Shao_(Changxu)\n",
      "        name_en name_zh                                   url\n",
      "492  Xiahou Hui     夏侯惠                      /wiki/Xiahou_Hui\n",
      "493  Xiahou Hui     夏侯徽  /wiki/Xiahou_Hui_(Sima_Shi%27s_wife)\n",
      "    name_en name_zh                         url\n",
      "554  Yin Li      尹礼  /wiki/Yin_Li_(Han_dynasty)\n",
      "555  Yin Li      殷礼   /wiki/Yin_Li_(Eastern_Wu)\n",
      "           name_en name_zh                                             url\n",
      "584  Empress Zhang     张皇后                  /wiki/Empress_Zhang_(Cao_Fang)\n",
      "585  Empress Zhang     张皇后   /wiki/Empress_Zhang_(Liu_Shan%27s_first_wife)\n",
      "586  Empress Zhang     张皇后  /wiki/Empress_Zhang_(Liu_Shan%27s_second_wife)\n",
      "         name_en name_zh                                 url\n",
      "591  Zhang Cheng      张承  /wiki/Zhang_Cheng_(Three_Kingdoms)\n",
      "592  Zhang Cheng      张承     /wiki/Zhang_Cheng_(Han_dynasty)\n",
      "      name_en name_zh                           url\n",
      "601  Zhang Ji      张既       /wiki/Zhang_Ji_(Derong)\n",
      "602  Zhang Ji      张济  /wiki/Zhang_Ji_(Han_dynasty)\n",
      "       name_en name_zh                               url\n",
      "611  Zhang Wen      张温     /wiki/Zhang_Wen_(Han_dynasty)\n",
      "612  Zhang Wen      张温  /wiki/Zhang_Wen_(Three_Kingdoms)\n",
      "       name_en name_zh                           url\n",
      "614  Zhang Xiu      张休  /wiki/Zhang_Xiu_(Eastern_Wu)\n",
      "615  Zhang Xiu      张绣     /wiki/Zhang_Xiu_(warlord)\n",
      "      name_en name_zh                       url\n",
      "618  Zhang Yi      张翼   /wiki/Zhang_Yi_(Bogong)\n",
      "619  Zhang Yi      张裔    /wiki/Zhang_Yi_(Junsi)\n",
      "620  Zhang Yi      张揖  /wiki/Zhang_Yi_(Cao_Wei)\n",
      "      name_en name_zh                       url\n",
      "645  Zhou Tai      周泰            /wiki/Zhou_Tai\n",
      "646  Zhou Tai      州泰  /wiki/Zhou_Tai_(Cao_Wei)\n",
      "     name_en name_zh                      url\n",
      "648  Zhou Yu      周瑜            /wiki/Zhou_Yu\n",
      "649  Zhou Yu      周喁  /wiki/Zhou_Yu_(Renming)\n"
     ]
    }
   ],
   "source": [
    "# Clean duplicated names\n",
    "header = ['name_en', 'name_zh', 'url']\n",
    "df = pd.DataFrame(columns=header, data=res)\n",
    "count = defaultdict(lambda:0)\n",
    "for x in df['name_en']: count[x] += 1\n",
    "for key in count.keys():\n",
    "    if count[key] > 1: \n",
    "        print(df[df['name_en']==key])"
   ]
  },
  {
   "cell_type": "code",
   "execution_count": 13,
   "metadata": {},
   "outputs": [],
   "source": [
    "to_delete = [4, 5, 28, 30, 32, 35, 37, 41, 73, 94, 96, 165, 277, 286, 291, 306, 392, 408, 493, 554, 584, 585, 586, 592, 602, 611, 614, 619, 620, 646, 649]\n",
    "df.drop(to_delete, axis=0, inplace = True)\n",
    "df.reset_index(inplace = True, drop = True)"
   ]
  },
  {
   "cell_type": "code",
   "execution_count": 16,
   "metadata": {},
   "outputs": [],
   "source": [
    "# Save data\n",
    "df.to_csv('./data/people.csv', index = False)"
   ]
  }
 ],
 "metadata": {
  "kernelspec": {
   "display_name": "Python 3",
   "language": "python",
   "name": "python3"
  },
  "language_info": {
   "codemirror_mode": {
    "name": "ipython",
    "version": 3
   },
   "file_extension": ".py",
   "mimetype": "text/x-python",
   "name": "python",
   "nbconvert_exporter": "python",
   "pygments_lexer": "ipython3",
   "version": "3.7.3"
  }
 },
 "nbformat": 4,
 "nbformat_minor": 2
}
